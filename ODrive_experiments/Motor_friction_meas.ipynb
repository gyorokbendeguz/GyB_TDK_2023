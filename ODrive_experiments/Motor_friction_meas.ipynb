{
 "cells": [
  {
   "cell_type": "code",
   "execution_count": null,
   "id": "ceb3c121",
   "metadata": {},
   "outputs": [],
   "source": [
    "import odrive\n",
    "import time\n",
    "import serial\n",
    "import numpy as np\n",
    "import pandas as pd\n",
    "from matplotlib import pyplot as plt"
   ]
  },
  {
   "cell_type": "code",
   "execution_count": null,
   "id": "87ca9f51",
   "metadata": {},
   "outputs": [],
   "source": [
    "odrv0 = odrive.find_any()\n",
    "print(str(odrv0.vbus_voltage))"
   ]
  },
  {
   "cell_type": "code",
   "execution_count": null,
   "id": "f101f0a4",
   "metadata": {},
   "outputs": [],
   "source": [
    "# Configure Power Supply\n",
    "\n",
    "odrv0.config.dc_bus_overvoltage_trip_level = 56 # [V]\n",
    "odrv0.config.dc_bus_undervoltage_trip_level = 32 # [V]\n",
    "odrv0.config.dc_max_positive_current = 7.8 # [A]\n",
    "odrv0.config.dc_max_negative_current = -2 # [A]\n",
    "\n",
    "# Motor Configuration\n",
    "\n",
    "odrv0.axis0.config.motor.motor_type = 0 # HIGH_CURRENT\n",
    "odrv0.axis0.config.motor.torque_constant = 8.27 / 100\n",
    "odrv0.axis0.config.motor.pole_pairs = 20\n",
    "odrv0.axis0.config.motor.current_soft_max = 50\n",
    "odrv0.axis0.config.motor.current_hard_max = 70\n",
    "odrv0.axis0.config.motor.calibration_current = 10\n",
    "odrv0.axis0.config.motor.resistance_calib_max_voltage = 2\n",
    "odrv0.axis0.config.calibration_lockin.current = 10\n",
    "\n",
    "odrv0.axis0.requested_state = 4 # MOTOR_CALIBRATION\n",
    "\n",
    "print(f\"Phase resistance: {odrv0.axis0.config.motor.phase_resistance} Ohm\")\n",
    "print(f\"Phase inductance: {odrv0.axis0.config.motor.phase_inductance} H\")\n",
    "\n",
    "odrv0.save_configuration() # saving the configuration"
   ]
  },
  {
   "cell_type": "code",
   "execution_count": null,
   "id": "9ab25ed9",
   "metadata": {},
   "outputs": [],
   "source": [
    "# Setting the Limits\n",
    "\n",
    "odrv0.axis0.controller.config.vel_limit = 25 # [turn/s]\n",
    "odrv0.axis0.controller.config.vel_limit_tolerance = 1.8 # [turn/s]\n",
    "odrv0.axis0.config.torque_soft_min = -4 # [Nm]\n",
    "odrv0.axis0.config.torque_soft_max = 4 # [Nm]\n",
    "\n",
    "# Encoder Configuration\n",
    "\n",
    "odrv0.axis0.config.load_encoder = 13 # ONBOARD_ENCODER0\n",
    "odrv0.axis0.config.commutation_encoder = 13 # ONBOARD_ENCODER0\n",
    "\n",
    "odrv0.axis0.requested_state = 7 # ENCODER_OFFSET_CALIBRATION"
   ]
  },
  {
   "cell_type": "code",
   "execution_count": null,
   "id": "9b1a003a",
   "metadata": {},
   "outputs": [],
   "source": [
    "# Setting up the control loop\n",
    "\n",
    "odrv0.axis0.requested_state = 8 # CLOSED_LOOP_CONTROL\n",
    "odrv0.axis0.controller.config.input_mode = 1 # PASSTHROUGH\n",
    "odrv0.axis0.controller.config.control_mode = 2 # VELOCITY_CONTROL\n",
    "\n",
    "# tuned gains\n",
    "odrv0.axis0.controller.config.pos_gain = 20.0*1.3**4\n",
    "odrv0.axis0.controller.config.vel_gain = 0.5*(0.16*1.3**9)\n",
    "odrv0.axis0.controller.config.vel_integrator_gain = 0.32\n",
    "\n",
    "ser = serial.Serial('COM11', 115200, timeout=0.050)"
   ]
  },
  {
   "cell_type": "code",
   "execution_count": null,
   "id": "5f5ba2cf",
   "metadata": {},
   "outputs": [],
   "source": [
    "# Desired velocity: step increases\n",
    "\n",
    "DesVel = np.linspace(1, 10, 10)\n",
    "DesTime = DesVel*5 - 5\n",
    "\n",
    "plt.figure()\n",
    "plt.plot(DesTime, DesVel, 'o')\n",
    "plt.xlabel('Time [s]')\n",
    "plt.ylabel('Velocity command [rad/s]')\n",
    "plt.grid()"
   ]
  },
  {
   "cell_type": "code",
   "execution_count": null,
   "id": "21a861ae",
   "metadata": {},
   "outputs": [],
   "source": [
    "def log_signals(startTime, startPos, Time, Pos, Vel, Trq):\n",
    "    Time.append(time.time() - startTime) # time from start [s]\n",
    "    Pos.append((odrv0.axis0.pos_vel_mapper.pos_rel - startPos)*2*np.pi) # rel. pos [rad]\n",
    "    Vel.append(odrv0.axis0.pos_vel_mapper.vel*2*np.pi) # vel. [rad/s]\n",
    "    Trq.append(odrv0.axis0.motor.torque_estimate) # estim. motor torque [Nm]\n",
    "    return Time, Pos, Vel, Trq"
   ]
  },
  {
   "cell_type": "code",
   "execution_count": null,
   "id": "c41788a6",
   "metadata": {},
   "outputs": [],
   "source": [
    "# Measurement\n",
    "\n",
    "startTime = time.time()\n",
    "startPos = odrv0.axis0.pos_vel_mapper.pos_rel\n",
    "currTime = 0\n",
    "\n",
    "Time = []\n",
    "Pos = []\n",
    "Vel = []\n",
    "Trq = []\n",
    "\n",
    "endTime = DesTime[-1] + 5\n",
    "sampling_freq = 1/100\n",
    "samplings = np.linspace(0, endTime, num=int(endTime/sampling_freq + 1))\n",
    "samp_count = 0\n",
    "vel_count = 0\n",
    "\n",
    "while currTime < endTime:\n",
    "    currTime = time.time() - startTime\n",
    "    if currTime > DesTime[vel_count]:\n",
    "        desVel = DesVel[vel_count]/2/np.pi\n",
    "        strCommand = f\"v 0 {desVel}\\r\"\n",
    "        ser.write(strCommand.encode(encoding=\"ascii\"))\n",
    "        vel_count += 1\n",
    "        vel_count = min([vel_count, 9])\n",
    "        \n",
    "    if currTime >= samplings[samp_count]:\n",
    "        Time, Pos, Vel, Trq = log_signals(startTime, startPos, Time, Pos, Vel, Trq)\n",
    "        samp_count += 1\n",
    "        \n",
    "strCommand = f\"v 0 0\\r\"\n",
    "ser.write(strCommand.encode(encoding=\"ascii\"))"
   ]
  },
  {
   "cell_type": "code",
   "execution_count": null,
   "id": "4bd1acf5",
   "metadata": {},
   "outputs": [],
   "source": [
    "# Saving the measurement data\n",
    "\n",
    "Timen = np.array(Time)\n",
    "Posn = np.array(Pos)\n",
    "Veln = np.array(Vel)\n",
    "Trqn = np.array(Trq)\n",
    "Data = np.column_stack((Timen, Posn, Veln, Trqn))\n",
    "df = pd. DataFrame(Data)\n",
    "df.to_csv('motor_friction_meas.csv', index=False, header=False)\n",
    "\n",
    "plt.figure()\n",
    "plt.plot(Time, Vel)\n",
    "plt.plot(DesTime, DesVel, 'o')\n",
    "plt.show()\n",
    "\n",
    "plt.figure()\n",
    "plt.plot(Time, Trq)\n",
    "plt.show()"
   ]
  },
  {
   "cell_type": "code",
   "execution_count": null,
   "id": "b7e19df1",
   "metadata": {},
   "outputs": [],
   "source": [
    "odrv0.axis0.requested_state = 1 # IDLE\n",
    "ser.close()"
   ]
  }
 ],
 "metadata": {
  "kernelspec": {
   "display_name": "Python 3 (ipykernel)",
   "language": "python",
   "name": "python3"
  },
  "language_info": {
   "codemirror_mode": {
    "name": "ipython",
    "version": 3
   },
   "file_extension": ".py",
   "mimetype": "text/x-python",
   "name": "python",
   "nbconvert_exporter": "python",
   "pygments_lexer": "ipython3",
   "version": "3.8.18"
  }
 },
 "nbformat": 4,
 "nbformat_minor": 5
}
