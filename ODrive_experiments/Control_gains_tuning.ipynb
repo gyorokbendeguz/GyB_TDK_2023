{
 "cells": [
  {
   "cell_type": "code",
   "execution_count": null,
   "id": "e8c04260",
   "metadata": {},
   "outputs": [],
   "source": [
    "import odrive\n",
    "import time\n",
    "import serial\n",
    "import numpy as np\n",
    "import pandas as pd\n",
    "from matplotlib import pyplot as plt"
   ]
  },
  {
   "cell_type": "code",
   "execution_count": null,
   "id": "57ad5aeb",
   "metadata": {},
   "outputs": [],
   "source": [
    "odrv0 = odrive.find_any() # sometimes not working\n",
    "print(str(odrv0.vbus_voltage))"
   ]
  },
  {
   "cell_type": "code",
   "execution_count": null,
   "id": "c960da2b",
   "metadata": {},
   "outputs": [],
   "source": [
    "# Configure Power Supply\n",
    "\n",
    "odrv0.config.dc_bus_overvoltage_trip_level = 56 # [V]\n",
    "odrv0.config.dc_bus_undervoltage_trip_level = 32 # [V]\n",
    "odrv0.config.dc_max_positive_current = 7.8 # [A]\n",
    "odrv0.config.dc_max_negative_current = -2 # [A]"
   ]
  },
  {
   "cell_type": "code",
   "execution_count": null,
   "id": "dc9ff1eb",
   "metadata": {},
   "outputs": [],
   "source": [
    "# Motor Configuration\n",
    "\n",
    "odrv0.axis0.config.motor.motor_type = 0 # HIGH_CURRENT\n",
    "odrv0.axis0.config.motor.torque_constant = 8.27 / 100\n",
    "odrv0.axis0.config.motor.pole_pairs = 20\n",
    "odrv0.axis0.config.motor.current_soft_max = 50\n",
    "odrv0.axis0.config.motor.current_hard_max = 70\n",
    "odrv0.axis0.config.motor.calibration_current = 10\n",
    "odrv0.axis0.config.motor.resistance_calib_max_voltage = 2\n",
    "odrv0.axis0.config.calibration_lockin.current = 10\n",
    "\n",
    "odrv0.axis0.requested_state = 4 # MOTOR_CALIBRATION\n",
    "\n",
    "print(f\"Phase resistance: {odrv0.axis0.config.motor.phase_resistance} Ohm\")\n",
    "print(f\"Phase inductance: {odrv0.axis0.config.motor.phase_inductance} H\")\n",
    "\n",
    "odrv0.save_configuration() # saving the configuration"
   ]
  },
  {
   "cell_type": "code",
   "execution_count": null,
   "id": "edbe1d6c",
   "metadata": {},
   "outputs": [],
   "source": [
    "# Setting the Limits\n",
    "\n",
    "odrv0.axis0.controller.config.vel_limit = 25 # [turn/s]\n",
    "odrv0.axis0.controller.config.vel_limit_tolerance = 1.8 # [turn/s]\n",
    "odrv0.axis0.config.torque_soft_min = -4 # [Nm]\n",
    "odrv0.axis0.config.torque_soft_max = 4 # [Nm]\n",
    "\n",
    "# BUT THERMISTORS ARE NOT SET UP\n",
    "#odrv0.axis0.motor_thermistor.config.temp_limit_lower = 100 # °C (adapt this to your motor)\n",
    "#odrv0.axis0.motor_thermistor.config.temp_limit_upper = 120 # °C (adapt this to your motor)"
   ]
  },
  {
   "cell_type": "code",
   "execution_count": null,
   "id": "b2307529",
   "metadata": {},
   "outputs": [],
   "source": [
    "# Encoder Configuration\n",
    "\n",
    "odrv0.axis0.config.load_encoder = 13 # ONBOARD_ENCODER0\n",
    "odrv0.axis0.config.commutation_encoder = 13 # ONBOARD_ENCODER0\n",
    "#time.sleep(5)\n",
    "#odrv0.save_configuration()\n",
    "# [wait for ODrive to reboot]"
   ]
  },
  {
   "cell_type": "code",
   "execution_count": null,
   "id": "3899edca",
   "metadata": {},
   "outputs": [],
   "source": [
    "odrv0.axis0.requested_state = 7 # ENCODER_OFFSET_CALIBRATION\n",
    "# [wait for motor to stop]"
   ]
  },
  {
   "cell_type": "code",
   "execution_count": null,
   "id": "225c97ee",
   "metadata": {},
   "outputs": [],
   "source": [
    "start_pos = odrv0.axis0.pos_vel_mapper.pos_rel\n",
    "print(f\"Encoder position: {start_pos}\")"
   ]
  },
  {
   "cell_type": "code",
   "execution_count": null,
   "id": "9702553d",
   "metadata": {},
   "outputs": [],
   "source": [
    "# Setting up the control loop\n",
    "\n",
    "odrv0.axis0.requested_state = 8 # CLOSED_LOOP_CONTROL\n",
    "odrv0.axis0.controller.config.input_mode = 1 # PASSTHROUGH\n",
    "odrv0.axis0.controller.config.control_mode = 3 # POSITION_CONTROL\n",
    "\n",
    "mode = 0 # 0: baseline gains, 1: tuned gains\n",
    "\n",
    "if mode == 0:\n",
    "    # baseline gains\n",
    "    odrv0.axis0.controller.config.pos_gain = 20.0\n",
    "    odrv0.axis0.controller.config.vel_gain = 0.16\n",
    "    odrv0.axis0.controller.config.vel_integrator_gain = 0.32\n",
    "else:\n",
    "    #tuned gains\n",
    "    odrv0.axis0.controller.config.pos_gain = 20.0*1.3**4\n",
    "    odrv0.axis0.controller.config.vel_gain = 0.5*(0.16*1.3**9)\n",
    "    odrv0.axis0.controller.config.vel_integrator_gain = 0#0.32\n",
    "\n",
    "# Serial port of ODrive: COM11\n",
    "ser = serial.Serial('COM11', 115200, timeout=0.050)"
   ]
  },
  {
   "cell_type": "code",
   "execution_count": null,
   "id": "e751510e",
   "metadata": {},
   "outputs": [],
   "source": [
    "def log_signals(startTime, startPos, Time, Pos, Vel, Trq):\n",
    "    Time.append(time.time() - startTime) # time from start [s]\n",
    "    Pos.append((odrv0.axis0.pos_vel_mapper.pos_rel - startPos)*2*np.pi) # rel. pos [rad]\n",
    "    Vel.append(odrv0.axis0.pos_vel_mapper.vel*2*np.pi) # vel. [rad/s]\n",
    "    Trq.append(odrv0.axis0.motor.torque_estimate) # estim. motor torque [Nm]\n",
    "    return Time, Pos, Vel, Trq"
   ]
  },
  {
   "cell_type": "code",
   "execution_count": null,
   "id": "cdde3335",
   "metadata": {},
   "outputs": [],
   "source": [
    "startPos = odrv0.axis0.pos_vel_mapper.pos_rel\n",
    "startTime = time.time()\n",
    "currTime = 0\n",
    "\n",
    "Ampl = 30/360  # [turns]\n",
    "omega = 2*np.pi*(3/1)\n",
    "\n",
    "Time = []\n",
    "Pos = []\n",
    "Vel = []\n",
    "Trq = []\n",
    "DesPos = []\n",
    "\n",
    "endTime = 8\n",
    "sampling_freq = 1/100\n",
    "samplings = np.linspace(0, endTime, num=int(endTime/sampling_freq + 1))\n",
    "count = 0\n",
    "\n",
    "while currTime < endTime:\n",
    "    currTime = time.time() - startTime\n",
    "    desPos = Ampl*(np.sin(omega*currTime)) + startPos\n",
    "    strCommand = f\"p 0 {desPos}\\r\"\n",
    "    ser.write(strCommand.encode(encoding=\"ascii\"))\n",
    "    if currTime >= samplings[count]:\n",
    "        Time, Pos, Vel, Trq = log_signals(startTime, startPos, Time, Pos, Vel, Trq)\n",
    "        DesPos.append((desPos - startPos)*2*np.pi)\n",
    "        count += 1"
   ]
  },
  {
   "cell_type": "code",
   "execution_count": null,
   "id": "c0e3263b",
   "metadata": {},
   "outputs": [],
   "source": [
    "# Saving the measurement\n",
    "\n",
    "Timen = np.array(Time)\n",
    "Posn = np.array(Pos)\n",
    "DesPosn = np.array(DesPos)\n",
    "Veln = np.array(Vel)\n",
    "Trqn = np.array(Trq)\n",
    "Data = np.column_stack((Timen, Posn, DesPosn, Veln, Trqn))\n",
    "df = pd. DataFrame(Data)\n",
    "df. to_csv('baseline.csv', index=False)\n",
    "\n",
    "plt.plot(Time, Pos)\n",
    "plt.plot(Time, DesPos)\n",
    "plt.show()"
   ]
  },
  {
   "cell_type": "code",
   "execution_count": null,
   "id": "10297083",
   "metadata": {},
   "outputs": [],
   "source": [
    "#odrv0. clear_errors()\n",
    "odrv0.axis0.requested_state = 1 # IDLE\n",
    "ser.close()"
   ]
  }
 ],
 "metadata": {
  "kernelspec": {
   "display_name": "Python 3 (ipykernel)",
   "language": "python",
   "name": "python3"
  },
  "language_info": {
   "codemirror_mode": {
    "name": "ipython",
    "version": 3
   },
   "file_extension": ".py",
   "mimetype": "text/x-python",
   "name": "python",
   "nbconvert_exporter": "python",
   "pygments_lexer": "ipython3",
   "version": "3.8.18"
  }
 },
 "nbformat": 4,
 "nbformat_minor": 5
}
