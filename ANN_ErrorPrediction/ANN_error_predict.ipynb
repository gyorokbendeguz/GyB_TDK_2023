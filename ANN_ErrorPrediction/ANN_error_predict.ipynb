{
 "cells": [
  {
   "cell_type": "code",
   "execution_count": null,
   "id": "58da0afd",
   "metadata": {},
   "outputs": [],
   "source": [
    "import pandas as pd\n",
    "from matplotlib import pyplot as plt\n",
    "import numpy as np\n",
    "import tensorflow as tf"
   ]
  },
  {
   "cell_type": "code",
   "execution_count": null,
   "id": "65fd40f8",
   "metadata": {},
   "outputs": [],
   "source": [
    "# Import training data files\n",
    "\n",
    "train_files = [\"Data/fem1.csv\", \"Data/fem2.csv\", \"Data/fem3.csv\", \"Data/fem4.csv\", \"Data/fem5.csv\",\n",
    "               \"Data/piros1.csv\", \"Data/piros2.csv\", \"Data/piros3.csv\", \"Data/piros4.csv\", \"Data/piros5.csv\", \"Data/piros6.csv\"]\n",
    "\n",
    "dt = 0.01  # timestep for numerical derivation\n",
    "\n",
    "df_list = []\n",
    "for filename in train_files:\n",
    "    df = pd.read_csv(filename, index_col=None, header=0)\n",
    "    del df['NaN.2'], df['NaN.4'], df['NaN.5'], df['NaN.6'], df['NaN.7'], df['NaN.8'], df['NaN.9']\n",
    "    df['RelErr'] = np.abs((df['NaN.11'] - df['NaN.10'])/df['NaN.11'])\n",
    "    del df['NaN.10'], df['NaN.11']\n",
    "    df.rename(columns = {'NaN':'Time', 'NaN.1': 'Psi', 'NaN.3': 'Mz'}, inplace = True)\n",
    "    df['Ome'] = (df['Psi'].shift(periods=1) - df['Psi'])/dt\n",
    "    df['Eps'] = (df['Ome'].shift(periods=1) - df['Ome'])/dt\n",
    "    df_list.append(df)\n",
    "\n",
    "df_train = pd.concat(df_list, axis=0, ignore_index=True)\n",
    "df_train = df_train.dropna(axis=0)\n",
    "df_train.head()"
   ]
  },
  {
   "cell_type": "code",
   "execution_count": null,
   "outputs": [],
   "source": [
    "# I/O normalization based on the training data set\n",
    "\n",
    "df_normed = (df_train - df_train.mean())/df_train.std()  # normalization\n",
    "df_normed = df_normed.sample(frac=1)  # shuffles the data\n",
    "del df_normed['Time']  # time is not needed\n",
    "df_normed.head()"
   ],
   "metadata": {
    "collapsed": false
   },
   "id": "ff45af8e764c8ddb"
  },
  {
   "cell_type": "code",
   "execution_count": null,
   "outputs": [],
   "source": [
    "target = df_normed.pop('RelErr') # relative error (target of prediction)\n",
    "tf.convert_to_tensor(df_normed) # convert training data to tensor"
   ],
   "metadata": {
    "collapsed": false
   },
   "id": "2e8e2f740eb2f090"
  },
  {
   "cell_type": "code",
   "execution_count": null,
   "outputs": [],
   "source": [
    "def get_basic_model(n_hidden=2, n_nodes=64, reg_lambda=0.001):\n",
    "    regularizer = tf.keras.regularizers.l2(reg_lambda) # L2 (Ridge) regularization\n",
    "    \n",
    "    model = tf.keras.Sequential() # sequential keras model\n",
    "    \n",
    "    # input layer\n",
    "    model.add(tf.keras.layers.Dense(n_nodes, input_shape=(4,), activation='tanh',\n",
    "                                    kernel_regularizer=regularizer))\n",
    "    \n",
    "    # n number of hidden layers\n",
    "    for i in range(n_hidden):\n",
    "        model.add(tf.keras.layers.Dense(n_nodes, activation='tanh', kernel_regularizer=regularizer))\n",
    "        \n",
    "    # output layer\n",
    "    model.add(tf.keras.layers.Dense(1))\n",
    "\n",
    "    model.compile(optimizer=tf.keras.optimizers.Adam(0.001),\n",
    "                  loss='mean_squared_error', # MSE\n",
    "                  metrics = [tf.keras.metrics.RootMeanSquaredError()] # RMSE\n",
    "                  )\n",
    "    return model"
   ],
   "metadata": {
    "collapsed": false
   },
   "id": "fc7b24ada2e0f488"
  },
  {
   "cell_type": "code",
   "execution_count": null,
   "outputs": [],
   "source": [
    "n_layers = 1  # number of hidden layers\n",
    "n_nodes = 16  # number of nodes per layer\n",
    "\n",
    "model = get_basic_model(n_hidden=n_layers, n_nodes=n_nodes , reg_lambda=0.001)\n",
    "\n",
    "EPOCHS = 5000\n",
    "BATCH_SIZE = 512\n",
    "\n",
    "# early stopper only to call back the model with the best validation error\n",
    "early_stopper = tf.keras.callbacks.EarlyStopping(monitor='val_loss', patience = EPOCHS, mode = \"min\",\n",
    "                                                 restore_best_weights = True)\n",
    "\n",
    "history = model.fit(\n",
    "    df_normed, target,\n",
    "    epochs = EPOCHS,\n",
    "    batch_size = BATCH_SIZE,\n",
    "    validation_split = 0.2,\n",
    "    verbose = 1,\n",
    "    shuffle = False,  # do not shuffle, because training data is already mixed\n",
    "    callbacks=[early_stopper]\n",
    ")"
   ],
   "metadata": {
    "collapsed": false
   },
   "id": "13b8bdd3e4890f17"
  },
  {
   "cell_type": "code",
   "execution_count": null,
   "outputs": [],
   "source": [
    "# Training and validation losses\n",
    "\n",
    "plt.figure(figsize=(4,3), layout=\"constrained\")\n",
    "plt.plot(history.history['root_mean_squared_error'], 'k')\n",
    "plt.plot(history.history['val_root_mean_squared_error'], 'r')\n",
    "plt.ylabel('RMSE loss (normalized) [1]')\n",
    "plt.xlabel('Epochs [1]')\n",
    "plt.legend(['Training', 'Validation'], loc='upper right')\n",
    "plt.xlim((0, EPOCHS))\n",
    "plt.grid()\n",
    "plt.savefig(f\"TrainingErrors_hl{n_layers}_npl{n_nodes}.pdf\", facecolor=\"white\")\n",
    "plt.show()"
   ],
   "metadata": {
    "collapsed": false
   },
   "id": "80cb3128914bad5c"
  },
  {
   "cell_type": "code",
   "execution_count": null,
   "outputs": [],
   "source": [
    "# Loading test data\n",
    "\n",
    "test_files = [\"Data/fem6.csv\", \"Data/piros7.csv\"]\n",
    "\n",
    "dt = 0.01  # timestep for numerical derivation\n",
    "\n",
    "df_list = []\n",
    "for filename in test_files:\n",
    "    df = pd.read_csv(filename, index_col=None, header=0)\n",
    "    del df['NaN.2'], df['NaN.4'], df['NaN.5'], df['NaN.6'], df['NaN.7'], df['NaN.8'], df['NaN.9']\n",
    "    df['RelErr'] = np.abs((df['NaN.11'] - df['NaN.10'])/df['NaN.11'])\n",
    "    del df['NaN.10'], df['NaN.11']\n",
    "    df.rename(columns = {'NaN':'Time', 'NaN.1': 'Psi', 'NaN.3': 'Mz'}, inplace = True)\n",
    "    df['Ome'] = (df['Psi'].shift(periods=1) - df['Psi'])/dt\n",
    "    df['Eps'] = (df['Ome'].shift(periods=1) - df['Ome'])/dt\n",
    "    df_list.append(df)\n",
    "\n",
    "df_test = pd.concat(df_list, axis=0, ignore_index=True)\n",
    "df_test = df_test.dropna(axis=0)\n",
    "df_test.head()"
   ],
   "metadata": {
    "collapsed": false
   },
   "id": "dcff2435eda73c2d"
  },
  {
   "cell_type": "code",
   "execution_count": null,
   "outputs": [],
   "source": [
    "# Standardization (based on training data)\n",
    "\n",
    "df_test_normed = (df_test - df_train.mean())/df_train.std()\n",
    "del df_test_normed['Time']  # delete time data\n",
    "df_test_normed.head()"
   ],
   "metadata": {
    "collapsed": false
   },
   "id": "7daf235e86fad9e9"
  },
  {
   "cell_type": "code",
   "execution_count": null,
   "outputs": [],
   "source": [
    "# Model evaluation\n",
    "\n",
    "test_target = df_test_normed.pop('RelErr').to_numpy()  # target of prediction\n",
    "tf.convert_to_tensor(df_test_normed)\n",
    "\n",
    "test_results = model.predict(df_test_normed)"
   ],
   "metadata": {
    "collapsed": false
   },
   "id": "9c311b3a924c1541"
  },
  {
   "cell_type": "code",
   "execution_count": null,
   "outputs": [],
   "source": [
    "# Back scaling\n",
    "test_target = test_target*df_train['RelErr'].std() + df_train['RelErr'].mean()\n",
    "test_results = test_results*df_train['RelErr'].std() + df_train['RelErr'].mean()\n",
    "\n",
    "# Error of prediction\n",
    "RMSE = np.sqrt(np.mean((test_target - test_results)**2))\n",
    "RMSE"
   ],
   "metadata": {
    "collapsed": false
   },
   "id": "a41abadee8c3fc0c"
  },
  {
   "cell_type": "code",
   "execution_count": null,
   "outputs": [],
   "source": [
    "# Illustrating the results\n",
    "\n",
    "plt.figure(figsize=(4.5,3), layout=\"constrained\")\n",
    "plt.plot(test_target, 'k')\n",
    "plt.plot(test_results, '--r')\n",
    "plt.xlabel(\"Test data index\")\n",
    "plt.ylabel(\"Absolute relative error [1]\")\n",
    "plt.legend((\"Measured error\", \"Predicted error\"))\n",
    "plt.xlim((0, test_target.shape[0]))\n",
    "plt.grid()\n",
    "plt.savefig(f'TestResults_hl{n_layers}_npl{n_nodes}.pdf', facecolor=\"white\")\n",
    "plt.show()"
   ],
   "metadata": {
    "collapsed": false
   },
   "id": "2de62bc9f25381ea"
  }
 ],
 "metadata": {
  "kernelspec": {
   "display_name": "Python 3 (ipykernel)",
   "language": "python",
   "name": "python3"
  },
  "language_info": {
   "codemirror_mode": {
    "name": "ipython",
    "version": 3
   },
   "file_extension": ".py",
   "mimetype": "text/x-python",
   "name": "python",
   "nbconvert_exporter": "python",
   "pygments_lexer": "ipython3",
   "version": "3.8.18"
  }
 },
 "nbformat": 4,
 "nbformat_minor": 5
}
